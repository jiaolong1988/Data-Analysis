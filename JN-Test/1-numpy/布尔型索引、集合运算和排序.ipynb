{
 "cells": [
  {
   "cell_type": "code",
   "execution_count": 2,
   "metadata": {},
   "outputs": [],
   "source": [
    "import numpy as np"
   ]
  },
  {
   "cell_type": "markdown",
   "metadata": {},
   "source": [
    "# 布尔索引"
   ]
  },
  {
   "cell_type": "code",
   "execution_count": 5,
   "metadata": {},
   "outputs": [
    {
     "name": "stdout",
     "output_type": "stream",
     "text": [
      "[[ 0  1  2  3  4]\n",
      " [ 5  6  7  8  9]\n",
      " [10 11 12 13 14]\n",
      " [15 16 17 18 19]\n",
      " [20 21 22 23 24]] \n",
      "\n",
      "The elements in X that are greater than 10: [11 12 13 14 15 16 17 18 19 20 21 22 23 24]\n",
      "The elements in X that lees than or equal to 7: [0 1 2 3 4 5 6 7]\n",
      "The elements in X that are between 10 and 17: [11 12 13 14 15 16]\n"
     ]
    }
   ],
   "source": [
    "X = np.arange(25).reshape(5, 5)\n",
    "print(X, '\\n')\n",
    "print('The elements in X that are greater than 10:', X[X > 10])\n",
    "print('The elements in X that lees than or equal to 7:', X[X <= 7])\n",
    "print('The elements in X that are between 10 and 17:', X[(X > 10) & (X < 17)])"
   ]
  },
  {
   "cell_type": "code",
   "execution_count": 4,
   "metadata": {},
   "outputs": [
    {
     "data": {
      "text/plain": [
       "array([[ 0,  1,  2,  3,  4],\n",
       "       [ 5,  6,  7,  8,  9],\n",
       "       [10, -1, -1, -1, -1],\n",
       "       [-1, -1, 17, 18, 19],\n",
       "       [20, 21, 22, 23, 24]])"
      ]
     },
     "execution_count": 4,
     "metadata": {},
     "output_type": "execute_result"
    }
   ],
   "source": [
    "X[(X > 10) & (X < 17)] = -1\n",
    "X"
   ]
  },
  {
   "cell_type": "code",
   "execution_count": 31,
   "metadata": {},
   "outputs": [
    {
     "name": "stdout",
     "output_type": "stream",
     "text": [
      "[[ 1  2  3  4  5]\n",
      " [ 6  7  8  9 10]\n",
      " [11 12 13 14 15]\n",
      " [16 17 18 19 20]\n",
      " [21 22 23 24 25]]\n"
     ]
    },
    {
     "data": {
      "text/plain": [
       "array([ 1,  3,  5,  7,  9, 11, 13, 15, 17, 19, 21, 23, 25])"
      ]
     },
     "execution_count": 31,
     "metadata": {},
     "output_type": "execute_result"
    }
   ],
   "source": [
    "X = np.arange(1,26).reshape(5,5)\n",
    "\n",
    "print(X)\n",
    "\n",
    "Y = X[X % 2 != 0]\n",
    "Y"
   ]
  },
  {
   "cell_type": "markdown",
   "metadata": {},
   "source": [
    "# 集合运算"
   ]
  },
  {
   "cell_type": "code",
   "execution_count": 6,
   "metadata": {},
   "outputs": [
    {
     "name": "stdout",
     "output_type": "stream",
     "text": [
      "x =  [1 2 3 4 5]\n",
      "y =  [6 7 2 8 4]\n",
      "\n",
      "The elements that are both in x and y: [2 4]\n",
      "The elements that are in x that are not in y: [1 3 5]\n",
      "All the elements of x and y: [1 2 3 4 5 6 7 8]\n"
     ]
    }
   ],
   "source": [
    "# We create a rank 1 ndarray\n",
    "x = np.array([1,2,3,4,5])\n",
    "\n",
    "# We create a rank 1 ndarray\n",
    "y = np.array([6,7,2,8,4])\n",
    "\n",
    "\n",
    "print('x = ', x)\n",
    "print('y = ', y)\n",
    "\n",
    "# We use set operations to compare x and y:\n",
    "print()\n",
    "print('The elements that are both in x and y:', np.intersect1d(x,y))\n",
    "print('The elements that are in x that are not in y:', np.setdiff1d(x,y))\n",
    "print('All the elements of x and y:',np.union1d(x,y))"
   ]
  },
  {
   "cell_type": "markdown",
   "metadata": {},
   "source": [
    "# sort"
   ]
  },
  {
   "cell_type": "code",
   "execution_count": 21,
   "metadata": {},
   "outputs": [
    {
     "name": "stdout",
     "output_type": "stream",
     "text": [
      "Original x =  [ 7  3  7  5 10  5  5  6 10  8]\n",
      "\n",
      "Sorted x (out of place): [ 3  5  5  5  6  7  7  8 10 10]\n",
      "原始 x 未排序, np.sort： [ 7  3  7  5 10  5  5  6 10  8]\n",
      "\n",
      "原始 x 已排序, x.sort： [ 3  5  5  5  6  7  7  8 10 10]\n"
     ]
    }
   ],
   "source": [
    "x = np.random.randint(1,11,size=(10,))\n",
    "\n",
    "print('Original x = ', x)\n",
    "\n",
    "print()\n",
    "print('Sorted x (out of place):', np.sort(x))\n",
    "print('原始 x 未排序, np.sort：',x)\n",
    "\n",
    "print()\n",
    "x.sort()\n",
    "print('原始 x 已排序, x.sort：',x)"
   ]
  },
  {
   "cell_type": "code",
   "execution_count": 23,
   "metadata": {},
   "outputs": [
    {
     "name": "stdout",
     "output_type": "stream",
     "text": [
      "[ 3  5  6  7  8 10]\n"
     ]
    }
   ],
   "source": [
    "# 对 x 中的唯一元素进行排序\n",
    "print(np.sort(np.unique(x)))"
   ]
  },
  {
   "cell_type": "code",
   "execution_count": 27,
   "metadata": {},
   "outputs": [
    {
     "name": "stdout",
     "output_type": "stream",
     "text": [
      "Original X = \n",
      " [[ 6  2  3  7 10]\n",
      " [ 8  5  9  1  3]\n",
      " [ 6  5  4  5 10]\n",
      " [ 9  6  3  7  1]\n",
      " [ 4  2  9  1  3]]\n",
      "\n",
      "\n",
      "X with sorted columns :\n",
      " [[ 4  2  3  1  1]\n",
      " [ 6  2  3  1  3]\n",
      " [ 6  5  4  5  3]\n",
      " [ 8  5  9  7 10]\n",
      " [ 9  6  9  7 10]]\n",
      "\n",
      "X with sorted rows :\n",
      " [[ 2  3  6  7 10]\n",
      " [ 1  3  5  8  9]\n",
      " [ 4  5  5  6 10]\n",
      " [ 1  3  6  7  9]\n",
      " [ 1  2  3  4  9]]\n"
     ]
    }
   ],
   "source": [
    "# 对指定行 列 排序\n",
    "X = np.random.randint(1,11,size=(5,5))\n",
    "\n",
    "print('Original X = \\n', X)\n",
    "print()\n",
    "\n",
    "print()\n",
    "#对列排序\n",
    "print('X with sorted columns :\\n', np.sort(X, axis = 0))\n",
    "\n",
    "print()\n",
    "# 对行排序\n",
    "print('X with sorted rows :\\n', np.sort(X, axis = 1))"
   ]
  },
  {
   "cell_type": "code",
   "execution_count": null,
   "metadata": {},
   "outputs": [],
   "source": []
  },
  {
   "cell_type": "code",
   "execution_count": null,
   "metadata": {},
   "outputs": [],
   "source": []
  },
  {
   "cell_type": "code",
   "execution_count": null,
   "metadata": {},
   "outputs": [],
   "source": []
  }
 ],
 "metadata": {
  "kernelspec": {
   "display_name": "Python 3",
   "language": "python",
   "name": "python3"
  },
  "language_info": {
   "codemirror_mode": {
    "name": "ipython",
    "version": 3
   },
   "file_extension": ".py",
   "mimetype": "text/x-python",
   "name": "python",
   "nbconvert_exporter": "python",
   "pygments_lexer": "ipython3",
   "version": "3.7.1"
  },
  "toc": {
   "base_numbering": 1,
   "nav_menu": {},
   "number_sections": true,
   "sideBar": true,
   "skip_h1_title": false,
   "title_cell": "Table of Contents",
   "title_sidebar": "Contents",
   "toc_cell": false,
   "toc_position": {},
   "toc_section_display": true,
   "toc_window_display": false
  }
 },
 "nbformat": 4,
 "nbformat_minor": 2
}
